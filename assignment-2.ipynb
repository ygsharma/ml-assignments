{
  "nbformat": 4,
  "nbformat_minor": 0,
  "metadata": {
    "colab": {
      "provenance": [],
      "collapsed_sections": [],
      "authorship_tag": "ABX9TyPnGWSmfoLtISeTxHFQk7si",
      "include_colab_link": true
    },
    "kernelspec": {
      "name": "python3",
      "display_name": "Python 3"
    },
    "language_info": {
      "name": "python"
    }
  },
  "cells": [
    {
      "cell_type": "markdown",
      "metadata": {
        "id": "view-in-github",
        "colab_type": "text"
      },
      "source": [
        "<a href=\"https://colab.research.google.com/github/ygsharma/ml-assignments/blob/main/assignment-2.ipynb\" target=\"_parent\"><img src=\"https://colab.research.google.com/assets/colab-badge.svg\" alt=\"Open In Colab\"/></a>"
      ]
    },
    {
      "cell_type": "code",
      "execution_count": 1,
      "metadata": {
        "id": "or4WbA6Rzqqh"
      },
      "outputs": [],
      "source": [
        "import pandas as pd\n",
        "import numpy as np\n",
        "import scipy.io"
      ]
    },
    {
      "cell_type": "code",
      "source": [
        "from google.colab import drive\n",
        "drive.mount('/content/drive')"
      ],
      "metadata": {
        "colab": {
          "base_uri": "https://localhost:8080/"
        },
        "id": "59QEDb1y0fUF",
        "outputId": "d1e865c5-ffdd-4bb0-e241-b5e1db6074c0"
      },
      "execution_count": 2,
      "outputs": [
        {
          "output_type": "stream",
          "name": "stdout",
          "text": [
            "Mounted at /content/drive\n"
          ]
        }
      ]
    },
    {
      "cell_type": "code",
      "source": [
        "data = scipy.io.loadmat('/content/drive/MyDrive/Homework 2 attached files Sep 21, 2022 717 PM/data3.mat')\n",
        "df = data.get('data')"
      ],
      "metadata": {
        "id": "OmK8QTiD0lRh"
      },
      "execution_count": 3,
      "outputs": []
    },
    {
      "cell_type": "code",
      "source": [
        "x = df[:,0:2]\n",
        "y = df[:,2]"
      ],
      "metadata": {
        "id": "czO8oOIa0xW_"
      },
      "execution_count": 21,
      "outputs": []
    },
    {
      "cell_type": "code",
      "source": [
        "x.shape\n",
        "y.shape"
      ],
      "metadata": {
        "colab": {
          "base_uri": "https://localhost:8080/"
        },
        "id": "-OkFZ6qzFHep",
        "outputId": "222dd70e-f9f1-45cf-908a-80d87c9c3c85"
      },
      "execution_count": 33,
      "outputs": [
        {
          "output_type": "execute_result",
          "data": {
            "text/plain": [
              "(200,)"
            ]
          },
          "metadata": {},
          "execution_count": 33
        }
      ]
    },
    {
      "cell_type": "code",
      "source": [
        "import matplotlib.pyplot as plt\n",
        "plt.scatter(x[:,0],x[:,1]);\n",
        "plt.show();"
      ],
      "metadata": {
        "colab": {
          "base_uri": "https://localhost:8080/",
          "height": 265
        },
        "id": "HYrc-7wSUfmw",
        "outputId": "ccb5da24-8bd9-4071-ce32-5a9de2e45aa4"
      },
      "execution_count": 81,
      "outputs": [
        {
          "output_type": "display_data",
          "data": {
            "text/plain": [
              "<Figure size 432x288 with 1 Axes>"
            ],
            "image/png": "[encoded data removed]"
          },
          "metadata": {
            "needs_background": "light"
          }
        }
      ]
    },
    {
      "cell_type": "code",
      "source": [
        "def cerror(x,y,theta):\n",
        "  return y-(np.dot(theta, x.T));"
      ],
      "metadata": {
        "id": "DoUCr01HGosP"
      },
      "execution_count": 10,
      "outputs": []
    },
    {
      "cell_type": "code",
      "source": [
        "def perror(x,y,theta):\n",
        "  return (-1/(len(x))*(y*np.dot(theta, x.T)));"
      ],
      "metadata": {
        "id": "k3RdkV6OG936"
      },
      "execution_count": 11,
      "outputs": []
    },
    {
      "cell_type": "code",
      "source": [
        "def plot_boundary(theta, x, y):\n",
        "  plt.figure(0)\n",
        "  n = x.shape[0]\n",
        "\n",
        "  min_x = min(x[:, 0]);\n",
        "  max_x = max(x[:, 0]);\n",
        "  min_y = (-theta[2] - theta[0]*min_x)/theta[1];\n",
        "  max_y = (-theta[2] - theta[0]*max_x)/theta[1];\n",
        "\n",
        "  \n",
        "  plt.plot(x[:,0], x[:,1], 'r.')\n",
        "\n",
        "  plt.plot([min_x, max_x], [min_y, max_y], '-b');\n",
        "  plt.xlabel('X1');\n",
        "  plt.ylabel('X2');\n",
        "  plt.show();"
      ],
      "metadata": {
        "id": "5nxUpN91ZHbp"
      },
      "execution_count": 82,
      "outputs": []
    },
    {
      "cell_type": "code",
      "source": [
        "def perceptron(x, y, tolerance, alpha):\n",
        "\n",
        "  bias = np.ones((x.shape[0],1));\n",
        "  x_new = np.append(x, bias, axis=1);\n",
        "  theta = np.random.rand(x_new.shape[1]);\n",
        "\n",
        "  \n",
        "  n = len(x);\n",
        "  iter = 0;\n",
        "  l = [];\n",
        "  max_iter = 20000;\n",
        "  closs, ploss = [], [];\n",
        "  while(iter < max_iter):\n",
        "    \n",
        "    cerr, perr = 0,0;\n",
        "    for i in range(0, len(x)):\n",
        "      if(y[i]*np.dot(x_new[i].T, theta) < 0):\n",
        "        theta += y[i]*x_new[i];\n",
        "        cerr += np.linalg.norm(cerror(x_new[i],y[i],theta));\n",
        "        perr += np.linalg.norm(perror(x_new[i],y[i],theta))\n",
        "    \n",
        "    closs.append(cerr/n);\n",
        "    ploss.append(perr/n);\n",
        "\n",
        "    # xv = np.array(xv);\n",
        "    # yv = np.array(yv);\n",
        "    # theta += np.dot(yv, xv);\n",
        "    \n",
        "    # print(np.linalg.norm(np.dot(yv, xv)));\n",
        "    \n",
        "    l.append(iter);\n",
        "    iter += 1;\n",
        "\n",
        "    if(perr/n < tolerance):\n",
        "      print(iter);\n",
        "      break;\n",
        "\n",
        "  return theta, closs, ploss, l;\n"
      ],
      "metadata": {
        "id": "iGx3nLTjg-6g"
      },
      "execution_count": 83,
      "outputs": []
    },
    {
      "cell_type": "code",
      "source": [
        "theta, closs, ploss, l = perceptron(x,y,0.001,0.1);"
      ],
      "metadata": {
        "id": "j40nOm_oNA-R",
        "colab": {
          "base_uri": "https://localhost:8080/"
        },
        "outputId": "7d1cfd84-a476-4c9e-cc7e-940f56211ac2"
      },
      "execution_count": 84,
      "outputs": [
        {
          "output_type": "stream",
          "name": "stdout",
          "text": [
            "62\n"
          ]
        }
      ]
    },
    {
      "cell_type": "code",
      "source": [
        "plot_boundary(theta, x, y);"
      ],
      "metadata": {
        "colab": {
          "base_uri": "https://localhost:8080/",
          "height": 279
        },
        "id": "Kuh3WesJNLwE",
        "outputId": "9c43a952-e0bf-483b-ceb6-51ac2d091c22"
      },
      "execution_count": 85,
      "outputs": [
        {
          "output_type": "display_data",
          "data": {
            "text/plain": [
              "<Figure size 432x288 with 1 Axes>"
            ],
            "image/png": "[encoded data removed]"
          },
          "metadata": {
            "needs_background": "light"
          }
        }
      ]
    },
    {
      "cell_type": "code",
      "source": [
        "plt.plot(l, ploss);\n",
        "plt.show();"
      ],
      "metadata": {
        "colab": {
          "base_uri": "https://localhost:8080/",
          "height": 265
        },
        "id": "uYogzvDw0jr_",
        "outputId": "3392292e-c84a-4787-e4d1-6965c51ade46"
      },
      "execution_count": 86,
      "outputs": [
        {
          "output_type": "display_data",
          "data": {
            "text/plain": [
              "<Figure size 432x288 with 1 Axes>"
            ],
            "image/png": "[encoded data removed]"
          },
          "metadata": {
            "needs_background": "light"
          }
        }
      ]
    },
    {
      "cell_type": "code",
      "source": [
        "plt.plot(l, closs);"
      ],
      "metadata": {
        "colab": {
          "base_uri": "https://localhost:8080/",
          "height": 265
        },
        "id": "mQaTK_mTTyXT",
        "outputId": "d2ebc7c6-30ab-4a17-f646-44679dfcbd7e"
      },
      "execution_count": 87,
      "outputs": [
        {
          "output_type": "display_data",
          "data": {
            "text/plain": [
              "<Figure size 432x288 with 1 Axes>"
            ],
            "image/png": "[encoded data removed]"
          },
          "metadata": {
            "needs_background": "light"
          }
        }
      ]
    },
    {
      "cell_type": "code",
      "source": [],
      "metadata": {
        "id": "KpLkDa5Ovs2-"
      },
      "execution_count": null,
      "outputs": []
    }
  ]
}